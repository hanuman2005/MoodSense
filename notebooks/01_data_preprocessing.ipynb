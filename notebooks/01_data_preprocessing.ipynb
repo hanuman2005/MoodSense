{
 "cells": [
  {
   "cell_type": "markdown",
   "id": "c24aaeea",
   "metadata": {},
   "source": [
    "# Data Preprocessing for MoodSense\n",
    "\n",
    "This notebook handles data loading, cleaning, and preprocessing for both text and image emotion datasets.\n"
   ]
  },
  {
   "cell_type": "code",
   "execution_count": 1,
   "id": "52ca27ba",
   "metadata": {},
   "outputs": [
    {
     "name": "stdout",
     "output_type": "stream",
     "text": [
      "2.3.2\n"
     ]
    }
   ],
   "source": [
    "import pandas as pd\n",
    "print(pd.__version__)\n"
   ]
  },
  {
   "cell_type": "code",
   "execution_count": 1,
   "id": "41f853cf",
   "metadata": {},
   "outputs": [
    {
     "name": "stdout",
     "output_type": "stream",
     "text": [
      "✅ All imports successful!\n"
     ]
    }
   ],
   "source": [
    "import sys\n",
    "import os\n",
    "sys.path.append(os.path.abspath('../src'))  # Adjust path if needed\n",
    "\n",
    "import pandas as pd\n",
    "import numpy as np\n",
    "import matplotlib.pyplot as plt\n",
    "import seaborn as sns\n",
    "from collections import Counter\n",
    "import cv2\n",
    "from PIL import Image\n",
    "import warnings\n",
    "warnings.filterwarnings('ignore')\n",
    "\n",
    "from data_loader import DataLoader\n",
    "from utils import EmotionUtils, ImageUtils, TextUtils, DataUtils\n",
    "\n",
    "# Set style\n",
    "plt.style.use('default')\n",
    "sns.set_palette('husl')\n",
    "\n",
    "print(\"✅ All imports successful!\")\n"
   ]
  },
  {
   "cell_type": "markdown",
   "id": "748b0041",
   "metadata": {},
   "source": [
    "## 1. Initialize Data Loader and Validate Paths"
   ]
  },
  {
   "cell_type": "code",
   "execution_count": 2,
   "id": "903c7abf",
   "metadata": {},
   "outputs": [
    {
     "name": "stderr",
     "output_type": "stream",
     "text": [
      "INFO:data_loader:✓ Found: emotion_text_dataset at ../data/emotion_text_dataset\n",
      "INFO:data_loader:✓ Found: fer2013 at ../data/fer2013\n",
      "INFO:data_loader:✓ Found: spotify_dataset at ../data/spotify_dataset\n",
      "INFO:data_loader:✓ Found: food_mood_mapping at ../data/food_mood_mapping.csv\n"
     ]
    },
    {
     "name": "stdout",
     "output_type": "stream",
     "text": [
      "Data validation results:\n",
      "----------------------------------------\n",
      "✓ emotion_text_dataset: Found\n",
      "✓ fer2013: Found\n",
      "✓ spotify_dataset: Found\n",
      "✓ food_mood_mapping: Found\n",
      "\n",
      "✅ Directories created successfully!\n"
     ]
    }
   ],
   "source": [
    "# Initialize data loader\n",
    "data_loader = DataLoader(data_dir='../data/')\n",
    "\n",
    "# Validate data paths\n",
    "validation_results = data_loader.validate_data_paths()\n",
    "print(\"Data validation results:\")\n",
    "print(\"-\" * 40)\n",
    "for name, exists in validation_results.items():\n",
    "    status = \"✓\" if exists else \"✗\"\n",
    "    print(f\"{status} {name}: {'Found' if exists else 'Missing'}\")\n",
    "\n",
    "# Create necessary directories\n",
    "os.makedirs('../data/processed', exist_ok=True)\n",
    "os.makedirs('../models', exist_ok=True)\n",
    "print(\"\\n✅ Directories created successfully!\")\n"
   ]
  },
  {
   "cell_type": "markdown",
   "id": "af427f35",
   "metadata": {},
   "source": [
    "## 2. Text Data Processing"
   ]
  },
  {
   "cell_type": "code",
   "execution_count": 3,
   "id": "c9ea3fb6",
   "metadata": {},
   "outputs": [
    {
     "name": "stderr",
     "output_type": "stream",
     "text": [
      "INFO:data_loader:Loaded 40000 text samples with 13 unique emotions\n"
     ]
    },
    {
     "name": "stdout",
     "output_type": "stream",
     "text": [
      "Loading text emotion data...\n",
      "✅ Loaded 40000 text samples from dataset\n"
     ]
    }
   ],
   "source": [
    "# Load text emotion data\n",
    "print(\"Loading text emotion data...\")\n",
    "text_data_path = '../data/emotion_text_dataset/tweet_emotions.csv'\n",
    "\n",
    "if os.path.exists(text_data_path):\n",
    "    texts, labels = data_loader.load_text_emotion_data(text_data_path)\n",
    "    print(f\"✅ Loaded {len(texts)} text samples from dataset\")\n",
    "else:\n",
    "    print(\"📝 Text dataset not found. Creating comprehensive sample data...\")\n",
    "    \n",
    "    # Create extensive sample text data for each emotion\n",
    "    sample_data = {\n",
    "        'happy': [\n",
    "            \"I'm feeling so happy and excited today!\",\n",
    "            \"This is the best day ever, I'm so joyful!\",\n",
    "            \"I love spending time with my family and friends!\",\n",
    "            \"Life is wonderful and full of amazing opportunities!\",\n",
    "            \"I'm thrilled about this fantastic news!\",\n",
    "            \"What a beautiful sunny day, it makes me so cheerful!\",\n",
    "            \"I'm grateful for all the good things in my life!\",\n",
    "            \"Dancing always makes me feel so happy and alive!\",\n",
    "            \"I'm bursting with joy and positive energy!\",\n",
    "            \"This achievement makes me incredibly proud and happy!\"\n",
    "        ],\n",
    "        'sad': [\n",
    "            \"This is the worst day of my life, I'm so sad\",\n",
    "            \"I feel so lonely and depressed today\",\n",
    "            \"Everything seems to be going wrong, I'm heartbroken\",\n",
    "            \"I miss my loved ones so much it hurts\",\n",
    "            \"The rain outside matches my gloomy mood\",\n",
    "            \"I can't stop crying, I feel so devastated\",\n",
    "            \"Life feels empty and meaningless right now\",\n",
    "            \"I'm overwhelmed with sadness and despair\",\n",
    "            \"This loss has left me feeling completely broken\",\n",
    "            \"I wish I could escape from this overwhelming sadness\"\n",
    "        ],\n",
    "        'angry': [\n",
    "            \"I'm really angry about what happened today!\",\n",
    "            \"This situation makes me furious and frustrated!\",\n",
    "            \"I can't believe how irritated I am right now!\",\n",
    "            \"The injustice of this makes my blood boil!\",\n",
    "            \"I'm so mad I could scream at the top of my lungs!\",\n",
    "            \"This incompetence is driving me absolutely crazy!\",\n",
    "            \"I'm fed up with being treated this way!\",\n",
    "            \"The rage inside me is burning like fire!\",\n",
    "            \"I'm livid about this completely unfair situation!\",\n",
    "            \"My anger is reaching a boiling point right now!\"\n",
    "        ],\n",
    "        'fear': [\n",
    "            \"I'm so scared and worried about tomorrow\",\n",
    "            \"The thought of this makes me terrified and anxious\",\n",
    "            \"I'm trembling with fear about what might happen\",\n",
    "            \"This uncertainty fills me with dread and panic\",\n",
    "            \"I'm afraid I won't be able to handle this situation\",\n",
    "            \"The darkness makes me feel frightened and vulnerable\",\n",
    "            \"I'm nervous and apprehensive about the future\",\n",
    "            \"This phobia is paralyzing me with terror\",\n",
    "            \"I feel like I'm walking on thin ice, so scared\",\n",
    "            \"The unknown consequences make me shiver with fear\"\n",
    "        ],\n",
    "        'surprise': [\n",
    "            \"What a pleasant surprise that was!\",\n",
    "            \"I can't believe this unexpected turn of events!\",\n",
    "            \"This shocking news has left me completely stunned!\",\n",
    "            \"I'm amazed by this incredible revelation!\",\n",
    "            \"What an astonishing and unforeseen development!\",\n",
    "            \"This plot twist caught me completely off guard!\",\n",
    "            \"I'm bewildered by this sudden change of plans!\",\n",
    "            \"The unexpected gift left me speechless with wonder!\",\n",
    "            \"This startling discovery has blown my mind!\",\n",
    "            \"I'm flabbergasted by this surprising announcement!\"\n",
    "        ],\n",
    "        'disgust': [\n",
    "            \"That movie was absolutely disgusting and revolting!\",\n",
    "            \"This smell makes me feel sick to my stomach!\",\n",
    "            \"I'm repulsed by this horrible behavior!\",\n",
    "            \"The thought of eating that makes me nauseous!\",\n",
    "            \"This corruption is utterly repugnant and vile!\",\n",
    "            \"I'm disgusted by this appalling lack of hygiene!\",\n",
    "            \"This offensive content makes me want to look away!\",\n",
    "            \"I find this morally reprehensible and disgusting!\",\n",
    "            \"The rotten food made me feel sick!\",\n",
    "            \"I can't tolerate this disgusting situation!\"\n",
    "        ]\n",
    "    }\n"
   ]
  },
  {
   "cell_type": "markdown",
   "id": "6d894d24",
   "metadata": {},
   "source": [
    "## 4. Image Data Processing"
   ]
  },
  {
   "cell_type": "code",
   "execution_count": 4,
   "id": "c27e1667",
   "metadata": {},
   "outputs": [
    {
     "name": "stderr",
     "output_type": "stream",
     "text": [
      "INFO:data_loader:Loaded 28709 image samples with 7 unique emotions\n",
      "INFO:data_loader:Loaded 7178 image samples with 7 unique emotions\n"
     ]
    },
    {
     "name": "stdout",
     "output_type": "stream",
     "text": [
      "✅ Loaded 35887 images from FER2013 dataset\n"
     ]
    }
   ],
   "source": [
    "# Load FER2013 image data\n",
    "train_path = '../data/fer2013/train'\n",
    "test_path  = '../data/fer2013/test'\n",
    "\n",
    "train_images, train_labels = data_loader.load_fer2013_data(train_path)\n",
    "test_images, test_labels   = data_loader.load_fer2013_data(test_path)\n",
    "\n",
    "images = train_images + test_images\n",
    "image_labels = train_labels + test_labels\n",
    "\n",
    "print(f\"✅ Loaded {len(images)} images from FER2013 dataset\")\n",
    "\n"
   ]
  },
  {
   "cell_type": "markdown",
   "id": "a55828b1",
   "metadata": {},
   "source": [
    "## 4. Food Mood Data Processing"
   ]
  },
  {
   "cell_type": "code",
   "execution_count": 5,
   "id": "5c4d518d",
   "metadata": {},
   "outputs": [
    {
     "name": "stdout",
     "output_type": "stream",
     "text": [
      "✅ Loaded 49 rows from food-mood dataset\n"
     ]
    }
   ],
   "source": [
    "# Load food-mood mapping\n",
    "food_data_path = '../data/food_mood_mapping.csv'\n",
    "\n",
    "if os.path.exists(food_data_path):\n",
    "    food_df = pd.read_csv(food_data_path)\n",
    "    print(f\"✅ Loaded {len(food_df)} rows from food-mood dataset\")\n",
    "else:\n",
    "    print(\"📝 Food mood mapping CSV not found. Creating sample data...\")\n",
    "    food_df = pd.DataFrame({\n",
    "        'Food': ['Pizza', 'Chocolate', 'Salad', 'Ice Cream', 'Sushi'],\n",
    "        'Mood': ['happy', 'happy', 'neutral', 'happy', 'excited']\n",
    "    })\n"
   ]
  },
  {
   "cell_type": "markdown",
   "id": "22346770",
   "metadata": {},
   "source": [
    "## 5. Spotify Dataset Processing"
   ]
  },
  {
   "cell_type": "code",
   "execution_count": 6,
   "id": "eea1afa8",
   "metadata": {},
   "outputs": [
    {
     "name": "stdout",
     "output_type": "stream",
     "text": [
      "✅ Loaded 130663 rows from Spotify dataset\n"
     ]
    }
   ],
   "source": [
    "# Load Spotify dataset\n",
    "spotify_data_path = '../data/spotify_dataset/SpotifyAudioFeaturesApril2019.csv'\n",
    "\n",
    "if os.path.exists(spotify_data_path):\n",
    "    spotify_df = pd.read_csv(os.path.join(spotify_data_path))\n",
    "    print(f\"✅ Loaded {len(spotify_df)} rows from Spotify dataset\")\n",
    "else:\n",
    "    print(\"📝 Spotify dataset not found. Skipping Spotify data processing...\")\n"
   ]
  },
  {
   "cell_type": "markdown",
   "id": "fb8d6721",
   "metadata": {},
   "source": [
    "## 6. Data Summary"
   ]
  },
  {
   "cell_type": "code",
   "execution_count": 7,
   "id": "2a9f19ba",
   "metadata": {},
   "outputs": [
    {
     "name": "stdout",
     "output_type": "stream",
     "text": [
      "Text data distribution:\n",
      "empty: 827\n",
      "sadness: 5165\n",
      "enthusiasm: 759\n",
      "neutral: 8638\n",
      "worry: 8459\n",
      "surprise: 2187\n",
      "love: 3842\n",
      "fun: 1776\n",
      "hate: 1323\n",
      "happiness: 5209\n",
      "boredom: 179\n",
      "relief: 1526\n",
      "anger: 110\n",
      "\n",
      "Image data distribution:\n",
      "angry: 4953\n",
      "disgust: 547\n",
      "fear: 5121\n",
      "happy: 8989\n",
      "neutral: 6198\n",
      "sad: 6077\n",
      "surprise: 4002\n",
      "\n",
      "Food-Mood data preview:\n"
     ]
    },
    {
     "data": {
      "text/html": [
       "<div>\n",
       "<style scoped>\n",
       "    .dataframe tbody tr th:only-of-type {\n",
       "        vertical-align: middle;\n",
       "    }\n",
       "\n",
       "    .dataframe tbody tr th {\n",
       "        vertical-align: top;\n",
       "    }\n",
       "\n",
       "    .dataframe thead th {\n",
       "        text-align: right;\n",
       "    }\n",
       "</style>\n",
       "<table border=\"1\" class=\"dataframe\">\n",
       "  <thead>\n",
       "    <tr style=\"text-align: right;\">\n",
       "      <th></th>\n",
       "      <th>Food</th>\n",
       "      <th>Mood</th>\n",
       "    </tr>\n",
       "  </thead>\n",
       "  <tbody>\n",
       "    <tr>\n",
       "      <th>0</th>\n",
       "      <td>Pizza</td>\n",
       "      <td>happy</td>\n",
       "    </tr>\n",
       "    <tr>\n",
       "      <th>1</th>\n",
       "      <td>Chocolate</td>\n",
       "      <td>happy</td>\n",
       "    </tr>\n",
       "    <tr>\n",
       "      <th>2</th>\n",
       "      <td>Ice Cream</td>\n",
       "      <td>happy</td>\n",
       "    </tr>\n",
       "    <tr>\n",
       "      <th>3</th>\n",
       "      <td>Burger</td>\n",
       "      <td>excited</td>\n",
       "    </tr>\n",
       "    <tr>\n",
       "      <th>4</th>\n",
       "      <td>Sushi</td>\n",
       "      <td>excited</td>\n",
       "    </tr>\n",
       "  </tbody>\n",
       "</table>\n",
       "</div>"
      ],
      "text/plain": [
       "        Food     Mood\n",
       "0      Pizza    happy\n",
       "1  Chocolate    happy\n",
       "2  Ice Cream    happy\n",
       "3     Burger  excited\n",
       "4      Sushi  excited"
      ]
     },
     "metadata": {},
     "output_type": "display_data"
    },
    {
     "name": "stdout",
     "output_type": "stream",
     "text": [
      "\n",
      "Spotify data preview:\n"
     ]
    },
    {
     "data": {
      "text/html": [
       "<div>\n",
       "<style scoped>\n",
       "    .dataframe tbody tr th:only-of-type {\n",
       "        vertical-align: middle;\n",
       "    }\n",
       "\n",
       "    .dataframe tbody tr th {\n",
       "        vertical-align: top;\n",
       "    }\n",
       "\n",
       "    .dataframe thead th {\n",
       "        text-align: right;\n",
       "    }\n",
       "</style>\n",
       "<table border=\"1\" class=\"dataframe\">\n",
       "  <thead>\n",
       "    <tr style=\"text-align: right;\">\n",
       "      <th></th>\n",
       "      <th>artist_name</th>\n",
       "      <th>track_id</th>\n",
       "      <th>track_name</th>\n",
       "      <th>acousticness</th>\n",
       "      <th>danceability</th>\n",
       "      <th>duration_ms</th>\n",
       "      <th>energy</th>\n",
       "      <th>instrumentalness</th>\n",
       "      <th>key</th>\n",
       "      <th>liveness</th>\n",
       "      <th>loudness</th>\n",
       "      <th>mode</th>\n",
       "      <th>speechiness</th>\n",
       "      <th>tempo</th>\n",
       "      <th>time_signature</th>\n",
       "      <th>valence</th>\n",
       "      <th>popularity</th>\n",
       "    </tr>\n",
       "  </thead>\n",
       "  <tbody>\n",
       "    <tr>\n",
       "      <th>0</th>\n",
       "      <td>YG</td>\n",
       "      <td>2RM4jf1Xa9zPgMGRDiht8O</td>\n",
       "      <td>Big Bank feat. 2 Chainz, Big Sean, Nicki Minaj</td>\n",
       "      <td>0.005820</td>\n",
       "      <td>0.743</td>\n",
       "      <td>238373</td>\n",
       "      <td>0.339</td>\n",
       "      <td>0.000</td>\n",
       "      <td>1</td>\n",
       "      <td>0.0812</td>\n",
       "      <td>-7.678</td>\n",
       "      <td>1</td>\n",
       "      <td>0.4090</td>\n",
       "      <td>203.927</td>\n",
       "      <td>4</td>\n",
       "      <td>0.118</td>\n",
       "      <td>15</td>\n",
       "    </tr>\n",
       "    <tr>\n",
       "      <th>1</th>\n",
       "      <td>YG</td>\n",
       "      <td>1tHDG53xJNGsItRA3vfVgs</td>\n",
       "      <td>BAND DRUM (feat. A$AP Rocky)</td>\n",
       "      <td>0.024400</td>\n",
       "      <td>0.846</td>\n",
       "      <td>214800</td>\n",
       "      <td>0.557</td>\n",
       "      <td>0.000</td>\n",
       "      <td>8</td>\n",
       "      <td>0.2860</td>\n",
       "      <td>-7.259</td>\n",
       "      <td>1</td>\n",
       "      <td>0.4570</td>\n",
       "      <td>159.009</td>\n",
       "      <td>4</td>\n",
       "      <td>0.371</td>\n",
       "      <td>0</td>\n",
       "    </tr>\n",
       "    <tr>\n",
       "      <th>2</th>\n",
       "      <td>R3HAB</td>\n",
       "      <td>6Wosx2euFPMT14UXiWudMy</td>\n",
       "      <td>Radio Silence</td>\n",
       "      <td>0.025000</td>\n",
       "      <td>0.603</td>\n",
       "      <td>138913</td>\n",
       "      <td>0.723</td>\n",
       "      <td>0.000</td>\n",
       "      <td>9</td>\n",
       "      <td>0.0824</td>\n",
       "      <td>-5.890</td>\n",
       "      <td>0</td>\n",
       "      <td>0.0454</td>\n",
       "      <td>114.966</td>\n",
       "      <td>4</td>\n",
       "      <td>0.382</td>\n",
       "      <td>56</td>\n",
       "    </tr>\n",
       "    <tr>\n",
       "      <th>3</th>\n",
       "      <td>Chris Cooq</td>\n",
       "      <td>3J2Jpw61sO7l6Hc7qdYV91</td>\n",
       "      <td>Lactose</td>\n",
       "      <td>0.029400</td>\n",
       "      <td>0.800</td>\n",
       "      <td>125381</td>\n",
       "      <td>0.579</td>\n",
       "      <td>0.912</td>\n",
       "      <td>5</td>\n",
       "      <td>0.0994</td>\n",
       "      <td>-12.118</td>\n",
       "      <td>0</td>\n",
       "      <td>0.0701</td>\n",
       "      <td>123.003</td>\n",
       "      <td>4</td>\n",
       "      <td>0.641</td>\n",
       "      <td>0</td>\n",
       "    </tr>\n",
       "    <tr>\n",
       "      <th>4</th>\n",
       "      <td>Chris Cooq</td>\n",
       "      <td>2jbYvQCyPgX3CdmAzeVeuS</td>\n",
       "      <td>Same - Original mix</td>\n",
       "      <td>0.000035</td>\n",
       "      <td>0.783</td>\n",
       "      <td>124016</td>\n",
       "      <td>0.792</td>\n",
       "      <td>0.878</td>\n",
       "      <td>7</td>\n",
       "      <td>0.0332</td>\n",
       "      <td>-10.277</td>\n",
       "      <td>1</td>\n",
       "      <td>0.0661</td>\n",
       "      <td>120.047</td>\n",
       "      <td>4</td>\n",
       "      <td>0.928</td>\n",
       "      <td>0</td>\n",
       "    </tr>\n",
       "  </tbody>\n",
       "</table>\n",
       "</div>"
      ],
      "text/plain": [
       "  artist_name                track_id  \\\n",
       "0          YG  2RM4jf1Xa9zPgMGRDiht8O   \n",
       "1          YG  1tHDG53xJNGsItRA3vfVgs   \n",
       "2       R3HAB  6Wosx2euFPMT14UXiWudMy   \n",
       "3  Chris Cooq  3J2Jpw61sO7l6Hc7qdYV91   \n",
       "4  Chris Cooq  2jbYvQCyPgX3CdmAzeVeuS   \n",
       "\n",
       "                                       track_name  acousticness  danceability  \\\n",
       "0  Big Bank feat. 2 Chainz, Big Sean, Nicki Minaj      0.005820         0.743   \n",
       "1                    BAND DRUM (feat. A$AP Rocky)      0.024400         0.846   \n",
       "2                                   Radio Silence      0.025000         0.603   \n",
       "3                                         Lactose      0.029400         0.800   \n",
       "4                             Same - Original mix      0.000035         0.783   \n",
       "\n",
       "   duration_ms  energy  instrumentalness  key  liveness  loudness  mode  \\\n",
       "0       238373   0.339             0.000    1    0.0812    -7.678     1   \n",
       "1       214800   0.557             0.000    8    0.2860    -7.259     1   \n",
       "2       138913   0.723             0.000    9    0.0824    -5.890     0   \n",
       "3       125381   0.579             0.912    5    0.0994   -12.118     0   \n",
       "4       124016   0.792             0.878    7    0.0332   -10.277     1   \n",
       "\n",
       "   speechiness    tempo  time_signature  valence  popularity  \n",
       "0       0.4090  203.927               4    0.118          15  \n",
       "1       0.4570  159.009               4    0.371           0  \n",
       "2       0.0454  114.966               4    0.382          56  \n",
       "3       0.0701  123.003               4    0.641           0  \n",
       "4       0.0661  120.047               4    0.928           0  "
      ]
     },
     "metadata": {},
     "output_type": "display_data"
    }
   ],
   "source": [
    "# Text data summary\n",
    "if 'texts' in locals():\n",
    "    print(\"Text data distribution:\")\n",
    "    text_counter = Counter(labels)\n",
    "    for emotion, count in text_counter.items():\n",
    "        print(f\"{emotion}: {count}\")\n",
    "\n",
    "# Image data summary\n",
    "if 'images' in locals():\n",
    "    print(\"\\nImage data distribution:\")\n",
    "    image_counter = Counter(image_labels)\n",
    "    for emotion, count in image_counter.items():\n",
    "        print(f\"{emotion}: {count}\")\n",
    "\n",
    "# Food data summary\n",
    "if 'food_df' in locals():\n",
    "    print(\"\\nFood-Mood data preview:\")\n",
    "    display(food_df.head())\n",
    "\n",
    "# Spotify data summary\n",
    "if 'spotify_df' in locals():\n",
    "    print(\"\\nSpotify data preview:\")\n",
    "    display(spotify_df.head())\n"
   ]
  },
  {
   "cell_type": "markdown",
   "id": "97eae42f",
   "metadata": {},
   "source": [
    "## 7. Save Preprocessed Data"
   ]
  },
  {
   "cell_type": "code",
   "execution_count": 8,
   "id": "80bb6088",
   "metadata": {},
   "outputs": [
    {
     "name": "stdout",
     "output_type": "stream",
     "text": [
      "✅ Preprocessed text data saved!\n",
      "✅ Preprocessed image data saved!\n",
      "✅ Food-mood mapping saved!\n",
      "✅ Spotify dataset saved!\n"
     ]
    }
   ],
   "source": [
    "# Save text data\n",
    "if 'texts' in locals():\n",
    "    pd.DataFrame({'text': texts, 'label': labels}).to_csv('../data/processed/text_data.csv', index=False)\n",
    "    print(\"✅ Preprocessed text data saved!\")\n",
    "\n",
    "# Save image data\n",
    "if 'images' in locals():\n",
    "    np.save('../data/processed/images.npy', images)\n",
    "    np.save('../data/processed/image_labels.npy', image_labels)\n",
    "    print(\"✅ Preprocessed image data saved!\")\n",
    "\n",
    "# Save food data\n",
    "if 'food_df' in locals():\n",
    "    food_df.to_csv('../data/processed/food_mood.csv', index=False)\n",
    "    print(\"✅ Food-mood mapping saved!\")\n",
    "\n",
    "# Save Spotify data\n",
    "if 'spotify_df' in locals():\n",
    "    spotify_df.to_csv('../data/processed/spotify.csv', index=False)\n",
    "    print(\"✅ Spotify dataset saved!\")\n"
   ]
  },
  {
   "cell_type": "code",
   "execution_count": 9,
   "id": "824273dc",
   "metadata": {},
   "outputs": [
    {
     "name": "stderr",
     "output_type": "stream",
     "text": [
      "INFO:matplotlib.category:Using categorical units to plot a list of strings that are all parsable as floats or dates. If these strings should be plotted as numbers, cast to the appropriate data type before plotting.\n",
      "INFO:matplotlib.category:Using categorical units to plot a list of strings that are all parsable as floats or dates. If these strings should be plotted as numbers, cast to the appropriate data type before plotting.\n"
     ]
    },
    {
     "data": {
      "image/png": "[encoded data removed]",
      "text/plain": [
       "<Figure size 1400x1000 with 4 Axes>"
      ]
     },
     "metadata": {},
     "output_type": "display_data"
    }
   ],
   "source": [
    "# Visualize dataset distributions\n",
    "fig, axs = plt.subplots(2, 2, figsize=(14, 10))\n",
    "\n",
    "# Text emotions distribution\n",
    "if 'texts' in locals():\n",
    "    sns.countplot(x=labels, ax=axs[0,0], order=list(text_counter.keys()))\n",
    "    axs[0,0].set_title(\"Text Emotion Distribution\")\n",
    "    axs[0,0].set_ylabel(\"Count\")\n",
    "    axs[0,0].set_xlabel(\"Emotion\")\n",
    "\n",
    "# Image emotions distribution\n",
    "if 'images' in locals():\n",
    "    sns.countplot(x=image_labels, ax=axs[0,1], order=list(image_counter.keys()))\n",
    "    axs[0,1].set_title(\"Image Emotion Distribution\")\n",
    "    axs[0,1].set_ylabel(\"Count\")\n",
    "    axs[0,1].set_xlabel(\"Emotion\")\n",
    "\n",
    "# Food-Mood distribution\n",
    "if 'food_df' in locals():\n",
    "    sns.countplot(x='Mood', data=food_df, ax=axs[1,0])\n",
    "    axs[1,0].set_title(\"Food-Mood Distribution\")\n",
    "    axs[1,0].set_ylabel(\"Count\")\n",
    "    axs[1,0].set_xlabel(\"Mood\")\n",
    "\n",
    "# Spotify dataset preview (example: distribution of tracks by key)\n",
    "if 'spotify_df' in locals() and 'key' in spotify_df.columns:\n",
    "    sns.countplot(x='key', data=spotify_df, ax=axs[1,1])\n",
    "    axs[1,1].set_title(\"Spotify Tracks by Key\")\n",
    "    axs[1,1].set_ylabel(\"Count\")\n",
    "    axs[1,1].set_xlabel(\"Key\")\n",
    "\n",
    "plt.tight_layout()\n",
    "plt.show()\n"
   ]
  }
 ],
 "metadata": {
  "kernelspec": {
   "display_name": "venv",
   "language": "python",
   "name": "python3"
  },
  "language_info": {
   "codemirror_mode": {
    "name": "ipython",
    "version": 3
   },
   "file_extension": ".py",
   "mimetype": "text/x-python",
   "name": "python",
   "nbconvert_exporter": "python",
   "pygments_lexer": "ipython3",
   "version": "3.11.9"
  }
 },
 "nbformat": 4,
 "nbformat_minor": 5
}
