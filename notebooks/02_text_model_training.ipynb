{
 "cells": [
  {
   "cell_type": "markdown",
   "id": "a08c687d",
   "metadata": {},
   "source": [
    "# Text Emotion Model Training\n",
    "\n",
    "This notebook trains a BERT-based model for text emotion recognition."
   ]
  },
  {
   "cell_type": "code",
   "execution_count": 1,
   "id": "aac8c028",
   "metadata": {},
   "outputs": [
    {
     "name": "stderr",
     "output_type": "stream",
     "text": [
      "INFO:utils:Using CPU device\n"
     ]
    },
    {
     "name": "stdout",
     "output_type": "stream",
     "text": [
      "Using device: cpu\n"
     ]
    }
   ],
   "source": [
    "import sys\n",
    "import os\n",
    "sys.path.append('../src')\n",
    "\n",
    "import pandas as pd\n",
    "import numpy as np\n",
    "import torch\n",
    "import matplotlib.pyplot as plt\n",
    "from sklearn.metrics import classification_report, confusion_matrix\n",
    "import seaborn as sns\n",
    "import warnings\n",
    "warnings.filterwarnings('ignore')\n",
    "\n",
    "from data_loader import DataLoader\n",
    "from model_trainer import ModelTrainer, TextEmotionModel\n",
    "from utils import EmotionUtils, ModelUtils\n",
    "\n",
    "# Set random seeds for reproducibility\n",
    "torch.manual_seed(42)\n",
    "np.random.seed(42)\n",
    "\n",
    "# Check GPU availability\n",
    "device = ModelUtils.get_device()\n",
    "print(f\"Using device: {device}\")\n"
   ]
  },
  {
   "cell_type": "markdown",
   "id": "b54a9456",
   "metadata": {},
   "source": [
    "## 1. Load and Prepare Data"
   ]
  },
  {
   "cell_type": "code",
   "execution_count": 2,
   "id": "df20fa66",
   "metadata": {},
   "outputs": [
    {
     "name": "stdout",
     "output_type": "stream",
     "text": [
      "✅ Columns in dataset: ['tweet_id', 'sentiment', 'content']\n",
      "✅ Loaded 40000 text samples from processed data\n",
      "\n",
      "🧠 Unique emotions: {'love', 'worry', 'enthusiasm', 'sadness', 'fun', 'empty', 'anger', 'happiness', 'hate', 'boredom', 'surprise', 'neutral', 'relief'}\n",
      "📊 Label distribution:\n",
      "  empty: 827\n",
      "  sadness: 5165\n",
      "  enthusiasm: 759\n",
      "  neutral: 8638\n",
      "  worry: 8459\n",
      "  surprise: 2187\n",
      "  love: 3842\n",
      "  fun: 1776\n",
      "  hate: 1323\n",
      "  happiness: 5209\n",
      "  boredom: 179\n",
      "  relief: 1526\n",
      "  anger: 110\n"
     ]
    }
   ],
   "source": [
    "# Initialize data loader\n",
    "from collections import Counter\n",
    "\n",
    "data_loader = DataLoader(data_dir='../data/')\n",
    "processed_data_path = '../data/emotion_text_dataset/tweet_emotions.csv'\n",
    "\n",
    "# Load processed text data if available\n",
    "if os.path.exists(processed_data_path):\n",
    "    df = pd.read_csv(processed_data_path)\n",
    "    print(f\"✅ Columns in dataset: {list(df.columns)}\")\n",
    "\n",
    "    # Validate required columns\n",
    "    required_cols = {'content', 'sentiment'}\n",
    "    if not required_cols.issubset(df.columns):\n",
    "        raise ValueError(f\"❌ Missing columns: {required_cols - set(df.columns)}\")\n",
    "\n",
    "    texts = df['content'].tolist()\n",
    "    labels = df['sentiment'].tolist()\n",
    "    print(f\"✅ Loaded {len(texts)} text samples from processed data\")\n",
    "\n",
    "else:\n",
    "    print(\"📝 Processed data not found. Loading raw or fallback data...\")\n",
    "\n",
    "    text_data_path = '../data/emotion_text_dataset/'\n",
    "    if os.path.exists(text_data_path):\n",
    "        texts, labels = data_loader.load_text_emotion_data(text_data_path)\n",
    "        print(f\"✅ Loaded {len(texts)} samples from raw data directory\")\n",
    "    else:\n",
    "        print(\"⚠️ Raw data not found. Creating synthetic sample data...\")\n",
    "        texts = [\n",
    "            \"I'm feeling so happy and excited today!\",\n",
    "            \"This is the worst day of my life, I'm so sad\",\n",
    "            \"I'm really angry about what happened\",\n",
    "            \"That movie was absolutely disgusting\",\n",
    "            \"I'm so scared and worried about tomorrow\",\n",
    "            \"What a pleasant surprise that was!\",\n",
    "            \"Just having a normal, regular day\",\n",
    "            \"I love spending time with my family\",\n",
    "            \"This situation makes me feel terrible\",\n",
    "            \"I can't believe how furious I am right now\"\n",
    "        ] * 100\n",
    "\n",
    "        labels = [\n",
    "            'happy', 'sad', 'angry', 'disgust', 'fear', 'surprise', 'neutral',\n",
    "            'happy', 'sad', 'angry'\n",
    "        ] * 100\n",
    "\n",
    "        print(f\"✅ Created {len(texts)} synthetic text entries for training\")\n",
    "\n",
    "# Display label distribution\n",
    "unique_emotions = set(labels)\n",
    "label_counts = Counter(labels)\n",
    "\n",
    "print(f\"\\n🧠 Unique emotions: {unique_emotions}\")\n",
    "print(\"📊 Label distribution:\")\n",
    "for emotion, count in label_counts.items():\n",
    "    print(f\"  {emotion}: {count}\")\n"
   ]
  },
  {
   "cell_type": "code",
   "execution_count": 3,
   "id": "0e4c8d64",
   "metadata": {},
   "outputs": [
    {
     "name": "stdout",
     "output_type": "stream",
     "text": [
      "Creating data loaders...\n",
      "Training batches: 2000\n",
      "Validation batches: 500\n",
      "Classes: ['anger' 'boredom' 'empty' 'enthusiasm' 'fun' 'happiness' 'hate' 'love'\n",
      " 'neutral' 'relief' 'sadness' 'surprise' 'worry']\n"
     ]
    }
   ],
   "source": [
    "# Create data loaders\n",
    "print(\"Creating data loaders...\")\n",
    "\n",
    "# Configuration\n",
    "BATCH_SIZE = 16  # Reduced for demo/limited resources\n",
    "MAX_LENGTH = 128  # Reduced for faster training\n",
    "TEST_SIZE = 0.2\n",
    "TOKENIZER_NAME = \"distilbert-base-uncased\"\n",
    "\n",
    "train_loader, val_loader, label_encoder = data_loader.create_text_dataloaders(\n",
    "    texts=texts,\n",
    "    labels=labels,\n",
    "    batch_size=BATCH_SIZE,\n",
    "    test_size=TEST_SIZE,\n",
    "    tokenizer_name=TOKENIZER_NAME\n",
    ")\n",
    "\n",
    "print(f\"Training batches: {len(train_loader)}\")\n",
    "print(f\"Validation batches: {len(val_loader)}\")\n",
    "print(f\"Classes: {label_encoder.classes_}\")\n"
   ]
  },
  {
   "cell_type": "markdown",
   "id": "47f375b7",
   "metadata": {},
   "source": [
    "## 2. Initialize Model and Trainer"
   ]
  },
  {
   "cell_type": "code",
   "execution_count": 5,
   "id": "532158f0",
   "metadata": {},
   "outputs": [
    {
     "name": "stderr",
     "output_type": "stream",
     "text": [
      "INFO:model_trainer:Training config saved to ../models/text_emotion_model/config.json\n"
     ]
    },
    {
     "name": "stdout",
     "output_type": "stream",
     "text": [
      "🖥️ Using device: cpu\n",
      "\n",
      "📦 Training Configuration:\n",
      "  model_name: distilbert-base-uncased\n",
      "  num_epochs: 8\n",
      "  learning_rate: 3e-05\n",
      "  batch_size: 6\n",
      "  max_length: 80\n",
      "  num_emotions: 13\n",
      "  device: cpu\n",
      "  timestamp: 2025-10-17T09:30:28.432599\n",
      "\n",
      "✅ Training configuration saved successfully!\n"
     ]
    }
   ],
   "source": [
    "# ------------------------------\n",
    "# Initialize ModelTrainer & Save Training Config\n",
    "# ------------------------------\n",
    "\n",
    "import os\n",
    "from datetime import datetime\n",
    "from model_trainer import ModelTrainer\n",
    "from sklearn.preprocessing import LabelEncoder\n",
    "import torch\n",
    "\n",
    "# Encode labels\n",
    "label_encoder = LabelEncoder()\n",
    "label_encoder.fit(labels)  # Fit on emotion labels\n",
    "\n",
    "# Initialize device\n",
    "device = torch.device(\"cuda\" if torch.cuda.is_available() else \"cpu\")\n",
    "print(f\"🖥️ Using device: {device}\")\n",
    "\n",
    "# Initialize ModelTrainer\n",
    "model_trainer = ModelTrainer(device=device)\n",
    "\n",
    "# Define training configuration\n",
    "BATCH_SIZE = 6\n",
    "MAX_LENGTH = 80\n",
    "TOKENIZER_NAME = \"distilbert-base-uncased\"\n",
    "\n",
    "training_config = {\n",
    "    \"model_name\": TOKENIZER_NAME,\n",
    "    \"num_epochs\": 8,  # Reduced for demo\n",
    "    \"learning_rate\": 3e-5,\n",
    "    \"batch_size\": BATCH_SIZE,\n",
    "    \"max_length\": MAX_LENGTH,\n",
    "    \"num_emotions\": len(label_encoder.classes_),\n",
    "    \"device\": str(device),\n",
    "    \"timestamp\": datetime.now().isoformat()\n",
    "}\n",
    "\n",
    "# Validate config keys (optional safety check)\n",
    "required_keys = {\"model_name\", \"num_epochs\", \"learning_rate\", \"batch_size\", \"max_length\", \"num_emotions\", \"device\"}\n",
    "missing_keys = required_keys - training_config.keys()\n",
    "if missing_keys:\n",
    "    raise ValueError(f\"❌ Missing config keys: {missing_keys}\")\n",
    "\n",
    "# Print configuration\n",
    "print(\"\\n📦 Training Configuration:\")\n",
    "for key, value in training_config.items():\n",
    "    print(f\"  {key}: {value}\")\n",
    "\n",
    "# Save training config\n",
    "os.makedirs('../models/text_emotion_model', exist_ok=True)\n",
    "model_trainer.save_training_config(training_config, '../models/text_emotion_model/config.json')\n",
    "print(\"\\n✅ Training configuration saved successfully!\")\n"
   ]
  },
  {
   "cell_type": "markdown",
   "id": "02e94fef",
   "metadata": {},
   "source": [
    "## 3. Train the Model"
   ]
  },
  {
   "cell_type": "code",
   "execution_count": 6,
   "id": "a9648706",
   "metadata": {},
   "outputs": [
    {
     "name": "stderr",
     "output_type": "stream",
     "text": [
      "INFO:model_trainer:Epoch 1/8\n",
      "Training: 100%|██████████| 2667/2667 [1:05:38<00:00,  1.48s/it, loss=1.91]\n",
      "Validation: 100%|██████████| 667/667 [04:01<00:00,  2.76it/s]\n",
      "INFO:model_trainer:Train Loss: 2.2254, Val Loss: 2.1510\n",
      "INFO:model_trainer:Train Acc: 27.43%, Val Acc: 32.00%\n",
      "INFO:model_trainer:Best model saved with validation accuracy: 32.00%\n",
      "INFO:model_trainer:Epoch 2/8\n",
      "Training: 100%|██████████| 2667/2667 [1:10:37<00:00,  1.59s/it, loss=1.81] \n",
      "Validation: 100%|██████████| 667/667 [04:21<00:00,  2.55it/s]\n",
      "INFO:model_trainer:Train Loss: 1.9746, Val Loss: 2.1251\n",
      "INFO:model_trainer:Train Acc: 32.36%, Val Acc: 27.91%\n",
      "INFO:model_trainer:Epoch 3/8\n",
      "Training: 100%|██████████| 2667/2667 [3:49:15<00:00,  5.16s/it, loss=1.85]       \n",
      "Validation: 100%|██████████| 667/667 [05:40<00:00,  1.96it/s]\n",
      "INFO:model_trainer:Train Loss: 1.6410, Val Loss: 2.3271\n",
      "INFO:model_trainer:Train Acc: 37.12%, Val Acc: 30.88%\n",
      "INFO:model_trainer:Epoch 4/8\n",
      "Training: 100%|██████████| 2667/2667 [1:24:58<00:00,  1.91s/it, loss=2.6]    \n",
      "Validation: 100%|██████████| 667/667 [05:39<00:00,  1.96it/s]\n",
      "INFO:model_trainer:Train Loss: 1.2368, Val Loss: 2.6105\n",
      "INFO:model_trainer:Train Acc: 47.31%, Val Acc: 29.29%\n",
      "INFO:model_trainer:⏹️ Early stopping triggered\n"
     ]
    },
    {
     "name": "stdout",
     "output_type": "stream",
     "text": [
      "✅ Label encoder saved: ../models/text_emotion_model\\label_encoder.pkl\n",
      "\n",
      "✅ Training completed and artifacts saved!\n"
     ]
    }
   ],
   "source": [
    "# ------------------------------\n",
    "# Prepare Dataset & Train Text Emotion Model\n",
    "# ------------------------------\n",
    "\n",
    "import torch\n",
    "from torch.utils.data import Dataset, DataLoader\n",
    "from transformers import AutoTokenizer\n",
    "from sklearn.model_selection import train_test_split\n",
    "import numpy as np\n",
    "import joblib\n",
    "import os\n",
    "\n",
    "# ------------------------------\n",
    "# Custom Dataset\n",
    "# ------------------------------\n",
    "class TextEmotionDataset(Dataset):\n",
    "    def __init__(self, texts, labels, tokenizer_name=\"distilbert-base-uncased\", max_length=128):\n",
    "        self.texts = texts\n",
    "        self.labels = labels\n",
    "        self.tokenizer = AutoTokenizer.from_pretrained(tokenizer_name)\n",
    "        self.max_length = max_length\n",
    "        \n",
    "    def __len__(self):\n",
    "        return len(self.texts)\n",
    "    \n",
    "    def __getitem__(self, idx):\n",
    "        text = str(self.texts[idx])\n",
    "        label = self.labels[idx]\n",
    "        \n",
    "        encoding = self.tokenizer(\n",
    "            text,\n",
    "            add_special_tokens=True,\n",
    "            max_length=self.max_length,\n",
    "            padding='max_length',\n",
    "            truncation=True,\n",
    "            return_tensors='pt'\n",
    "        )\n",
    "        \n",
    "        return {\n",
    "            'input_ids': encoding['input_ids'].squeeze(0),\n",
    "            'attention_mask': encoding['attention_mask'].squeeze(0),\n",
    "            'label': torch.tensor(label, dtype=torch.long)\n",
    "        }\n",
    "\n",
    "# ------------------------------\n",
    "# Encode labels safely\n",
    "# ------------------------------\n",
    "encoded_labels = label_encoder.transform(labels)\n",
    "num_classes = len(label_encoder.classes_)\n",
    "encoded_labels = np.clip(encoded_labels, 0, num_classes - 1)\n",
    "\n",
    "# ------------------------------\n",
    "# Train/Validation Split\n",
    "# ------------------------------\n",
    "train_texts, val_texts, train_labels, val_labels = train_test_split(\n",
    "    texts, encoded_labels, test_size=0.2, random_state=42, stratify=encoded_labels\n",
    ")\n",
    "\n",
    "# ------------------------------\n",
    "# Create Datasets\n",
    "# ------------------------------\n",
    "train_dataset = TextEmotionDataset(train_texts, train_labels, tokenizer_name=TOKENIZER_NAME, max_length=MAX_LENGTH)\n",
    "val_dataset = TextEmotionDataset(val_texts, val_labels, tokenizer_name=TOKENIZER_NAME, max_length=MAX_LENGTH)\n",
    "\n",
    "# ------------------------------\n",
    "# DataLoaders (CPU-friendly)\n",
    "# ------------------------------\n",
    "train_loader = DataLoader(train_dataset, batch_size=12, shuffle=True, num_workers=0)\n",
    "val_loader = DataLoader(val_dataset, batch_size=12, shuffle=False, num_workers=0)\n",
    "\n",
    "# ------------------------------\n",
    "# Initialize ModelTrainer\n",
    "# ------------------------------\n",
    "model_trainer = ModelTrainer(device=device)\n",
    "\n",
    "# ------------------------------\n",
    "# Train model\n",
    "# ------------------------------\n",
    "model_save_dir = '../models/text_emotion_model'\n",
    "os.makedirs(model_save_dir, exist_ok=True)\n",
    "\n",
    "model_save_path = os.path.join(model_save_dir, 'model.pth')\n",
    "model_pkl_path = os.path.join(model_save_dir, 'model.pkl')\n",
    "label_encoder_path = os.path.join(model_save_dir, 'label_encoder.pkl')\n",
    "\n",
    "history = model_trainer.train_text_model(\n",
    "    train_loader=train_loader,\n",
    "    val_loader=val_loader,\n",
    "    model_save_path=model_save_path,\n",
    "    num_epochs=training_config[\"num_epochs\"],\n",
    "    learning_rate=training_config[\"learning_rate\"],\n",
    "    train_labels=train_labels  # ✅ Add this\n",
    ")\n",
    "\n",
    "\n",
    "# Save model as .pkl (if model object is returned)\n",
    "if hasattr(model_trainer, 'text_model'):\n",
    "    joblib.dump(model_trainer.text_model, model_pkl_path)\n",
    "    print(f\"✅ Model saved as pickle: {model_pkl_path}\")\n",
    "\n",
    "# Save label encoder\n",
    "joblib.dump(label_encoder, label_encoder_path)\n",
    "print(f\"✅ Label encoder saved: {label_encoder_path}\")\n",
    "\n",
    "print(\"\\n✅ Training completed and artifacts saved!\")\n"
   ]
  },
  {
   "cell_type": "code",
   "execution_count": 7,
   "id": "6332c7cd",
   "metadata": {},
   "outputs": [
    {
     "data": {
      "image/png": "[encoded data removed]",
      "text/plain": [
       "<Figure size 1000x400 with 2 Axes>"
      ]
     },
     "metadata": {},
     "output_type": "display_data"
    }
   ],
   "source": [
    "import matplotlib.pyplot as plt\n",
    "\n",
    "plt.figure(figsize=(10,4))\n",
    "plt.subplot(1,2,1)\n",
    "plt.plot(history['train_loss'], label='Train Loss')\n",
    "plt.plot(history['val_loss'], label='Val Loss')\n",
    "plt.legend(); plt.title(\"Loss over Epochs\")\n",
    "\n",
    "plt.subplot(1,2,2)\n",
    "plt.plot(history['train_acc'], label='Train Acc')\n",
    "plt.plot(history['val_acc'], label='Val Acc')\n",
    "plt.legend(); plt.title(\"Accuracy over Epochs\")\n",
    "\n",
    "plt.tight_layout(); plt.show()\n"
   ]
  },
  {
   "cell_type": "markdown",
   "id": "1a355d59",
   "metadata": {},
   "source": [
    "## 4. Visualize Training Results"
   ]
  },
  {
   "cell_type": "code",
   "execution_count": null,
   "id": "051b2b7e",
   "metadata": {},
   "outputs": [],
   "source": [
    "import os\n",
    "os.remove('../models/text_emotion_model/training_history.png')\n"
   ]
  },
  {
   "cell_type": "code",
   "execution_count": 8,
   "id": "6c1bc60d",
   "metadata": {},
   "outputs": [
    {
     "name": "stdout",
     "output_type": "stream",
     "text": [
      "✅ Patched model.pth with num_classes = 13\n"
     ]
    }
   ],
   "source": [
    "import torch\n",
    "\n",
    "# Load the existing checkpoint\n",
    "model_path = '../models/text_emotion_model/model.pth'\n",
    "checkpoint = torch.load(model_path)\n",
    "\n",
    "# Add num_classes manually\n",
    "checkpoint['num_classes'] = 13\n",
    "\n",
    "# Save it back\n",
    "torch.save(checkpoint, model_path)\n",
    "\n",
    "print(\"✅ Patched model.pth with num_classes = 13\")\n"
   ]
  },
  {
   "cell_type": "markdown",
   "id": "434dc1ab",
   "metadata": {},
   "source": [
    "## 5. Evaluate the Model"
   ]
  },
  {
   "cell_type": "code",
   "execution_count": 9,
   "id": "ab56beb7",
   "metadata": {},
   "outputs": [
    {
     "name": "stdout",
     "output_type": "stream",
     "text": [
      "✅ Model loaded successfully!\n",
      "\n",
      "🔍 Evaluating model...\n"
     ]
    },
    {
     "name": "stderr",
     "output_type": "stream",
     "text": [
      "Evaluating: 100%|██████████| 667/667 [05:28<00:00,  2.03it/s]\n"
     ]
    },
    {
     "ename": "ValueError",
     "evalue": "Number of classes, 13, does not match size of target_names, 7. Try specifying the labels parameter",
     "output_type": "error",
     "traceback": [
      "\u001b[31m---------------------------------------------------------------------------\u001b[39m",
      "\u001b[31mValueError\u001b[39m                                Traceback (most recent call last)",
      "\u001b[36mCell\u001b[39m\u001b[36m \u001b[39m\u001b[32mIn[9]\u001b[39m\u001b[32m, line 21\u001b[39m\n\u001b[32m     19\u001b[39m \u001b[38;5;66;03m# Evaluate on validation set\u001b[39;00m\n\u001b[32m     20\u001b[39m \u001b[38;5;28mprint\u001b[39m(\u001b[33m\"\u001b[39m\u001b[38;5;130;01m\\n\u001b[39;00m\u001b[33m🔍 Evaluating model...\u001b[39m\u001b[33m\"\u001b[39m)\n\u001b[32m---> \u001b[39m\u001b[32m21\u001b[39m evaluation_results = \u001b[43mmodel_trainer\u001b[49m\u001b[43m.\u001b[49m\u001b[43mevaluate_model\u001b[49m\u001b[43m(\u001b[49m\n\u001b[32m     22\u001b[39m \u001b[43m    \u001b[49m\u001b[43mmodel\u001b[49m\u001b[43m=\u001b[49m\u001b[43mbest_model\u001b[49m\u001b[43m,\u001b[49m\n\u001b[32m     23\u001b[39m \u001b[43m    \u001b[49m\u001b[43mtest_loader\u001b[49m\u001b[43m=\u001b[49m\u001b[43mval_loader\u001b[49m\u001b[43m,\u001b[49m\n\u001b[32m     24\u001b[39m \u001b[43m    \u001b[49m\u001b[43mmodel_type\u001b[49m\u001b[43m=\u001b[49m\u001b[33;43m\"\u001b[39;49m\u001b[33;43mtext\u001b[39;49m\u001b[33;43m\"\u001b[39;49m\n\u001b[32m     25\u001b[39m \u001b[43m\u001b[49m\u001b[43m)\u001b[49m\n\u001b[32m     27\u001b[39m \u001b[38;5;28mprint\u001b[39m(\u001b[33mf\u001b[39m\u001b[33m\"\u001b[39m\u001b[38;5;130;01m\\n\u001b[39;00m\u001b[33m📊 Validation Accuracy: \u001b[39m\u001b[38;5;132;01m{\u001b[39;00mevaluation_results[\u001b[33m'\u001b[39m\u001b[33maccuracy\u001b[39m\u001b[33m'\u001b[39m]\u001b[38;5;132;01m:\u001b[39;00m\u001b[33m.4f\u001b[39m\u001b[38;5;132;01m}\u001b[39;00m\u001b[33m\"\u001b[39m)\n\u001b[32m     29\u001b[39m \u001b[38;5;66;03m# Print classification report\u001b[39;00m\n",
      "\u001b[36mFile \u001b[39m\u001b[32md:\\MoodSense\\notebooks\\../src\\model_trainer.py:319\u001b[39m, in \u001b[36mModelTrainer.evaluate_model\u001b[39m\u001b[34m(self, model, test_loader, model_type)\u001b[39m\n\u001b[32m    317\u001b[39m \u001b[38;5;66;03m# Calculate metrics\u001b[39;00m\n\u001b[32m    318\u001b[39m accuracy = accuracy_score(all_labels, all_predictions)\n\u001b[32m--> \u001b[39m\u001b[32m319\u001b[39m report = \u001b[43mclassification_report\u001b[49m\u001b[43m(\u001b[49m\u001b[43mall_labels\u001b[49m\u001b[43m,\u001b[49m\u001b[43m \u001b[49m\u001b[43mall_predictions\u001b[49m\u001b[43m,\u001b[49m\u001b[43m \u001b[49m\n\u001b[32m    320\u001b[39m \u001b[43m                             \u001b[49m\u001b[43mtarget_names\u001b[49m\u001b[43m=\u001b[49m\u001b[38;5;28;43mself\u001b[39;49m\u001b[43m.\u001b[49m\u001b[43memotion_labels\u001b[49m\u001b[43m,\u001b[49m\u001b[43m \u001b[49m\u001b[43moutput_dict\u001b[49m\u001b[43m=\u001b[49m\u001b[38;5;28;43;01mTrue\u001b[39;49;00m\u001b[43m)\u001b[49m\n\u001b[32m    321\u001b[39m cm = confusion_matrix(all_labels, all_predictions)\n\u001b[32m    323\u001b[39m \u001b[38;5;28;01mreturn\u001b[39;00m {\n\u001b[32m    324\u001b[39m     \u001b[33m'\u001b[39m\u001b[33maccuracy\u001b[39m\u001b[33m'\u001b[39m: accuracy,\n\u001b[32m    325\u001b[39m     \u001b[33m'\u001b[39m\u001b[33mclassification_report\u001b[39m\u001b[33m'\u001b[39m: report,\n\u001b[32m   (...)\u001b[39m\u001b[32m    328\u001b[39m     \u001b[33m'\u001b[39m\u001b[33mtrue_labels\u001b[39m\u001b[33m'\u001b[39m: all_labels\n\u001b[32m    329\u001b[39m }\n",
      "\u001b[36mFile \u001b[39m\u001b[32md:\\MoodSense\\venv\\Lib\\site-packages\\sklearn\\utils\\_param_validation.py:218\u001b[39m, in \u001b[36mvalidate_params.<locals>.decorator.<locals>.wrapper\u001b[39m\u001b[34m(*args, **kwargs)\u001b[39m\n\u001b[32m    212\u001b[39m \u001b[38;5;28;01mtry\u001b[39;00m:\n\u001b[32m    213\u001b[39m     \u001b[38;5;28;01mwith\u001b[39;00m config_context(\n\u001b[32m    214\u001b[39m         skip_parameter_validation=(\n\u001b[32m    215\u001b[39m             prefer_skip_nested_validation \u001b[38;5;129;01mor\u001b[39;00m global_skip_validation\n\u001b[32m    216\u001b[39m         )\n\u001b[32m    217\u001b[39m     ):\n\u001b[32m--> \u001b[39m\u001b[32m218\u001b[39m         \u001b[38;5;28;01mreturn\u001b[39;00m \u001b[43mfunc\u001b[49m\u001b[43m(\u001b[49m\u001b[43m*\u001b[49m\u001b[43margs\u001b[49m\u001b[43m,\u001b[49m\u001b[43m \u001b[49m\u001b[43m*\u001b[49m\u001b[43m*\u001b[49m\u001b[43mkwargs\u001b[49m\u001b[43m)\u001b[49m\n\u001b[32m    219\u001b[39m \u001b[38;5;28;01mexcept\u001b[39;00m InvalidParameterError \u001b[38;5;28;01mas\u001b[39;00m e:\n\u001b[32m    220\u001b[39m     \u001b[38;5;66;03m# When the function is just a wrapper around an estimator, we allow\u001b[39;00m\n\u001b[32m    221\u001b[39m     \u001b[38;5;66;03m# the function to delegate validation to the estimator, but we replace\u001b[39;00m\n\u001b[32m    222\u001b[39m     \u001b[38;5;66;03m# the name of the estimator by the name of the function in the error\u001b[39;00m\n\u001b[32m    223\u001b[39m     \u001b[38;5;66;03m# message to avoid confusion.\u001b[39;00m\n\u001b[32m    224\u001b[39m     msg = re.sub(\n\u001b[32m    225\u001b[39m         \u001b[33mr\u001b[39m\u001b[33m\"\u001b[39m\u001b[33mparameter of \u001b[39m\u001b[33m\\\u001b[39m\u001b[33mw+ must be\u001b[39m\u001b[33m\"\u001b[39m,\n\u001b[32m    226\u001b[39m         \u001b[33mf\u001b[39m\u001b[33m\"\u001b[39m\u001b[33mparameter of \u001b[39m\u001b[38;5;132;01m{\u001b[39;00mfunc.\u001b[34m__qualname__\u001b[39m\u001b[38;5;132;01m}\u001b[39;00m\u001b[33m must be\u001b[39m\u001b[33m\"\u001b[39m,\n\u001b[32m    227\u001b[39m         \u001b[38;5;28mstr\u001b[39m(e),\n\u001b[32m    228\u001b[39m     )\n",
      "\u001b[36mFile \u001b[39m\u001b[32md:\\MoodSense\\venv\\Lib\\site-packages\\sklearn\\metrics\\_classification.py:2970\u001b[39m, in \u001b[36mclassification_report\u001b[39m\u001b[34m(y_true, y_pred, labels, target_names, sample_weight, digits, output_dict, zero_division)\u001b[39m\n\u001b[32m   2964\u001b[39m         warnings.warn(\n\u001b[32m   2965\u001b[39m             \u001b[33m\"\u001b[39m\u001b[33mlabels size, \u001b[39m\u001b[38;5;132;01m{0}\u001b[39;00m\u001b[33m, does not match size of target_names, \u001b[39m\u001b[38;5;132;01m{1}\u001b[39;00m\u001b[33m\"\u001b[39m.format(\n\u001b[32m   2966\u001b[39m                 \u001b[38;5;28mlen\u001b[39m(labels), \u001b[38;5;28mlen\u001b[39m(target_names)\n\u001b[32m   2967\u001b[39m             )\n\u001b[32m   2968\u001b[39m         )\n\u001b[32m   2969\u001b[39m     \u001b[38;5;28;01melse\u001b[39;00m:\n\u001b[32m-> \u001b[39m\u001b[32m2970\u001b[39m         \u001b[38;5;28;01mraise\u001b[39;00m \u001b[38;5;167;01mValueError\u001b[39;00m(\n\u001b[32m   2971\u001b[39m             \u001b[33m\"\u001b[39m\u001b[33mNumber of classes, \u001b[39m\u001b[38;5;132;01m{0}\u001b[39;00m\u001b[33m, does not match size of \u001b[39m\u001b[33m\"\u001b[39m\n\u001b[32m   2972\u001b[39m             \u001b[33m\"\u001b[39m\u001b[33mtarget_names, \u001b[39m\u001b[38;5;132;01m{1}\u001b[39;00m\u001b[33m. Try specifying the labels \u001b[39m\u001b[33m\"\u001b[39m\n\u001b[32m   2973\u001b[39m             \u001b[33m\"\u001b[39m\u001b[33mparameter\u001b[39m\u001b[33m\"\u001b[39m.format(\u001b[38;5;28mlen\u001b[39m(labels), \u001b[38;5;28mlen\u001b[39m(target_names))\n\u001b[32m   2974\u001b[39m         )\n\u001b[32m   2975\u001b[39m \u001b[38;5;28;01mif\u001b[39;00m target_names \u001b[38;5;129;01mis\u001b[39;00m \u001b[38;5;28;01mNone\u001b[39;00m:\n\u001b[32m   2976\u001b[39m     target_names = [\u001b[33m\"\u001b[39m\u001b[38;5;132;01m%s\u001b[39;00m\u001b[33m\"\u001b[39m % l \u001b[38;5;28;01mfor\u001b[39;00m l \u001b[38;5;129;01min\u001b[39;00m labels]\n",
      "\u001b[31mValueError\u001b[39m: Number of classes, 13, does not match size of target_names, 7. Try specifying the labels parameter"
     ]
    }
   ],
   "source": [
    "# ------------------------------\n",
    "# Load & Evaluate Best Trained Model\n",
    "# ------------------------------\n",
    "\n",
    "from IPython.display import Image, display\n",
    "import json\n",
    "import os\n",
    "\n",
    "# Define model path\n",
    "model_save_path = '../models/text_emotion_model/model.pth'\n",
    "\n",
    "# Load the best trained model with correct number of classes\n",
    "best_model = model_trainer.load_trained_model(model_save_path, model_type=\"text\")\n",
    "\n",
    "\n",
    "if best_model is not None:\n",
    "    print(\"✅ Model loaded successfully!\")\n",
    "\n",
    "    # Evaluate on validation set\n",
    "    print(\"\\n🔍 Evaluating model...\")\n",
    "    evaluation_results = model_trainer.evaluate_model(\n",
    "        model=best_model,\n",
    "        test_loader=val_loader,\n",
    "        model_type=\"text\"\n",
    "    )\n",
    "\n",
    "    print(f\"\\n📊 Validation Accuracy: {evaluation_results['accuracy']:.4f}\")\n",
    "\n",
    "    # Print classification report\n",
    "    print(\"\\n📋 Classification Report:\")\n",
    "    report = evaluation_results['classification_report']\n",
    "    for emotion in label_encoder.classes_:  # Use actual trained classes\n",
    "        if emotion in report:\n",
    "            metrics = report[emotion]\n",
    "            print(f\"  {emotion}:\")\n",
    "            print(f\"    Precision: {metrics['precision']:.3f}\")\n",
    "            print(f\"    Recall:    {metrics['recall']:.3f}\")\n",
    "            print(f\"    F1-score:  {metrics['f1-score']:.3f}\")\n",
    "\n",
    "    # Save classification report\n",
    "    report_path = os.path.join(model_save_dir, 'classification_report.json')\n",
    "    with open(report_path, 'w') as f:\n",
    "        json.dump(report, f, indent=2)\n",
    "    print(f\"\\n✅ Classification report saved: {report_path}\")\n",
    "\n",
    "    # Plot and display confusion matrix\n",
    "    cm_path = os.path.join(model_save_dir, 'confusion_matrix.png')\n",
    "    model_trainer.plot_confusion_matrix(\n",
    "        evaluation_results['confusion_matrix'],\n",
    "        save_path=cm_path\n",
    "    )\n",
    "    print(f\"✅ Confusion matrix saved: {cm_path}\")\n",
    "    display(Image(filename=cm_path))\n",
    "\n",
    "else:\n",
    "    print(\"❌ Failed to load trained model\")\n"
   ]
  },
  {
   "cell_type": "markdown",
   "id": "1f36921d",
   "metadata": {},
   "source": [
    "## 6. Test Model with Sample Texts"
   ]
  },
  {
   "cell_type": "code",
   "execution_count": null,
   "id": "8a09808e",
   "metadata": {},
   "outputs": [
    {
     "name": "stdout",
     "output_type": "stream",
     "text": [
      "❌ Model not available for testing\n"
     ]
    }
   ],
   "source": [
    "# Test the model with sample texts\n",
    "if best_model is not None:\n",
    "    print(\"Testing model with sample texts:\\n\")\n",
    "    \n",
    "    test_texts = [\n",
    "        \"I'm so happy today! Life is wonderful!\",\n",
    "        \"I'm feeling really sad and down today\",\n",
    "        \"This makes me so angry and frustrated!\",\n",
    "        \"I'm scared about what might happen\",\n",
    "        \"What a pleasant surprise this is!\",\n",
    "        \"That's absolutely disgusting and horrible\",\n",
    "        \"It's just a normal day, nothing special\"\n",
    "    ]\n",
    "    \n",
    "    for i, text in enumerate(test_texts):\n",
    "        print(f\"\\nTest {i+1}: '{text}'\")\n",
    "        \n",
    "        # Predict emotions\n",
    "        emotion_scores = model_trainer.predict_single_text(\n",
    "            model=best_model,\n",
    "            text=text,\n",
    "            tokenizer_name=TOKENIZER_NAME\n",
    "        )\n",
    "        \n",
    "        # Get top 3 emotions\n",
    "        sorted_emotions = sorted(emotion_scores.items(), key=lambda x: x[1], reverse=True)\n",
    "        \n",
    "        print(\"  Predicted emotions:\")\n",
    "        for emotion, score in sorted_emotions[:3]:\n",
    "            emoji = EmotionUtils.get_emotion_emoji(emotion)\n",
    "            print(f\"    {emoji} {emotion}: {score:.3f}\")\n",
    "else:\n",
    "    print(\"❌ Model not available for testing\")\n"
   ]
  },
  {
   "cell_type": "markdown",
   "id": "b8777f45",
   "metadata": {},
   "source": [
    "## 7. Model Performance Analysis"
   ]
  },
  {
   "cell_type": "code",
   "execution_count": null,
   "id": "c7a53073",
   "metadata": {},
   "outputs": [],
   "source": [
    "# Analyze model performance by emotion\n",
    "if 'evaluation_results' in locals():\n",
    "    print(\"Model Performance Analysis:\\n\")\n",
    "    \n",
    "    # Extract metrics for each emotion\n",
    "    emotions_data = []\n",
    "    report = evaluation_results['classification_report']\n",
    "    \n",
    "    for emotion in EmotionUtils.EMOTION_LABELS:\n",
    "        if emotion in report:\n",
    "            emotions_data.append({\n",
    "                'emotion': emotion,\n",
    "                'precision': report[emotion]['precision'],\n",
    "                'recall': report[emotion]['recall'],\n",
    "                'f1_score': report[emotion]['f1-score'],\n",
    "                'support': report[emotion]['support']\n",
    "            })\n",
    "    \n",
    "    # Create DataFrame for easier analysis\n",
    "    performance_df = pd.DataFrame(emotions_data)\n",
    "    \n",
    "    print(\"Per-Emotion Performance:\")\n",
    "    print(performance_df.round(3))\n",
    "    \n",
    "    # Visualize performance metrics\n",
    "    fig, axes = plt.subplots(1, 3, figsize=(15, 5))\n",
    "    \n",
    "    # Precision\n",
    "    axes[0].bar(performance_df['emotion'], performance_df['precision'], \n",
    "               color=[EmotionUtils.EMOTION_COLORS.get(e, '#888888') for e in performance_df['emotion']])\n",
    "    axes[0].set_title('Precision by Emotion')\n",
    "    axes[0].set_ylabel('Precision')\n",
    "    axes[0].tick_params(axis='x', rotation=45)\n",
    "    \n",
    "    # Recall\n",
    "    axes[1].bar(performance_df['emotion'], performance_df['recall'],\n",
    "               color=[EmotionUtils.EMOTION_COLORS.get(e, '#888888') for e in performance_df['emotion']])\n",
    "    axes[1].set_title('Recall by Emotion')\n",
    "    axes[1].set_ylabel('Recall')\n",
    "    axes[1].tick_params(axis='x', rotation=45)\n",
    "    \n",
    "    # F1-Score\n",
    "    axes[2].bar(performance_df['emotion'], performance_df['f1_score'],\n",
    "               color=[EmotionUtils.EMOTION_COLORS.get(e, '#888888') for e in performance_df['emotion']])\n",
    "    axes[2].set_title('F1-Score by Emotion')\n",
    "    axes[2].set_ylabel('F1-Score')\n",
    "    axes[2].tick_params(axis='x', rotation=45)\n",
    "    \n",
    "    plt.tight_layout()\n",
    "    plt.savefig('../models/text_emotion_model/performance_analysis.png')\n",
    "    plt.show()\n",
    "    \n",
    "    # Best and worst performing emotions\n",
    "    best_f1 = performance_df.loc[performance_df['f1_score'].idxmax()]\n",
    "    worst_f1 = performance_df.loc[performance_df['f1_score'].idxmin()]\n",
    "    \n",
    "    print(f\"\\n🏆 Best performing emotion: {best_f1['emotion']} (F1: {best_f1['f1_score']:.3f})\")\n",
    "    print(f\"🔴 Worst performing emotion: {worst_f1['emotion']} (F1: {worst_f1['f1_score']:.3f})\")\n",
    "    \n",
    "    # Overall metrics\n",
    "    if 'macro avg' in report:\n",
    "        macro_avg = report['macro avg']\n",
    "        print(f\"\\n📊 Overall Performance:\")\n",
    "        print(f\"   Macro Precision: {macro_avg['precision']:.3f}\")\n",
    "        print(f\"   Macro Recall: {macro_avg['recall']:.3f}\")\n",
    "        print(f\"   Macro F1-Score: {macro_avg['f1-score']:.3f}\")\n",
    "else:\n",
    "    print(\"No evaluation results available for analysis\")\n"
   ]
  },
  {
   "cell_type": "markdown",
   "id": "6676fabe",
   "metadata": {},
   "source": [
    "## 8. Save Model Summary"
   ]
  },
  {
   "cell_type": "code",
   "execution_count": null,
   "id": "a89d9d3e",
   "metadata": {},
   "outputs": [],
   "source": [
    "# Create model summary\n",
    "model_summary = {\n",
    "    \"model_type\": \"Text Emotion Recognition\",\n",
    "    \"architecture\": \"DistilBERT + Classification Head\",\n",
    "    \"training_data\": {\n",
    "        \"total_samples\": len(texts),\n",
    "        \"training_samples\": len(train_loader.dataset),\n",
    "        \"validation_samples\": len(val_loader.dataset),\n",
    "        \"emotions\": list(EmotionUtils.EMOTION_LABELS)\n",
    "    },\n",
    "    \"training_config\": training_config,\n",
    "    \"performance\": {},\n",
    "    \"files\": {\n",
    "        \"model\": \"model.pth\",\n",
    "        \"config\": \"config.json\",\n",
    "        \"training_history\": \"training_history.png\",\n",
    "        \"confusion_matrix\": \"confusion_matrix.png\",\n",
    "        \"performance_analysis\": \"performance_analysis.png\"\n",
    "    }\n",
    "}\n"
   ]
  },
  {
   "cell_type": "code",
   "execution_count": null,
   "id": "14320024",
   "metadata": {},
   "outputs": [],
   "source": [
    "import json\n",
    "\n",
    "summary_path = '../models/text_emotion_model/model_summary.json'\n",
    "with open(summary_path, 'w') as f:\n",
    "    json.dump(model_summary, f, indent=4)\n",
    "\n",
    "print(f\"✅ Model summary saved to {summary_path}\")\n"
   ]
  }
 ],
 "metadata": {
  "kernelspec": {
   "display_name": "venv",
   "language": "python",
   "name": "python3"
  },
  "language_info": {
   "codemirror_mode": {
    "name": "ipython",
    "version": 3
   },
   "file_extension": ".py",
   "mimetype": "text/x-python",
   "name": "python",
   "nbconvert_exporter": "python",
   "pygments_lexer": "ipython3",
   "version": "3.11.9"
  }
 },
 "nbformat": 4,
 "nbformat_minor": 5
}
